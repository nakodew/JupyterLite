{
 "cells": [
  {
   "cell_type": "code",
   "execution_count": 1,
   "id": "0f3a163d",
   "metadata": {},
   "outputs": [],
   "source": [
    "import numpy as np\n",
    "import pandas as pd\n",
    "import matplotlib.pyplot as plt"
   ]
  },
  {
   "cell_type": "code",
   "execution_count": 2,
   "id": "9cef0034",
   "metadata": {},
   "outputs": [
    {
     "data": {
      "text/html": [
       "<div>\n",
       "<style scoped>\n",
       "    .dataframe tbody tr th:only-of-type {\n",
       "        vertical-align: middle;\n",
       "    }\n",
       "\n",
       "    .dataframe tbody tr th {\n",
       "        vertical-align: top;\n",
       "    }\n",
       "\n",
       "    .dataframe thead th {\n",
       "        text-align: right;\n",
       "    }\n",
       "</style>\n",
       "<table border=\"1\" class=\"dataframe\">\n",
       "  <thead>\n",
       "    <tr style=\"text-align: right;\">\n",
       "      <th></th>\n",
       "      <th>Exam1</th>\n",
       "      <th>Exam2</th>\n",
       "      <th>Accepted</th>\n",
       "    </tr>\n",
       "  </thead>\n",
       "  <tbody>\n",
       "    <tr>\n",
       "      <th>0</th>\n",
       "      <td>34.623660</td>\n",
       "      <td>78.024693</td>\n",
       "      <td>0</td>\n",
       "    </tr>\n",
       "    <tr>\n",
       "      <th>1</th>\n",
       "      <td>30.286711</td>\n",
       "      <td>43.894998</td>\n",
       "      <td>0</td>\n",
       "    </tr>\n",
       "    <tr>\n",
       "      <th>2</th>\n",
       "      <td>35.847409</td>\n",
       "      <td>72.902198</td>\n",
       "      <td>0</td>\n",
       "    </tr>\n",
       "    <tr>\n",
       "      <th>3</th>\n",
       "      <td>60.182599</td>\n",
       "      <td>86.308552</td>\n",
       "      <td>1</td>\n",
       "    </tr>\n",
       "    <tr>\n",
       "      <th>4</th>\n",
       "      <td>79.032736</td>\n",
       "      <td>75.344376</td>\n",
       "      <td>1</td>\n",
       "    </tr>\n",
       "  </tbody>\n",
       "</table>\n",
       "</div>"
      ],
      "text/plain": [
       "       Exam1      Exam2  Accepted\n",
       "0  34.623660  78.024693         0\n",
       "1  30.286711  43.894998         0\n",
       "2  35.847409  72.902198         0\n",
       "3  60.182599  86.308552         1\n",
       "4  79.032736  75.344376         1"
      ]
     },
     "execution_count": 2,
     "metadata": {},
     "output_type": "execute_result"
    }
   ],
   "source": [
    "path = 'ex2data1.txt'\n",
    "data = pd.read_csv(path,names=['Exam1','Exam2','Accepted'])\n",
    "data.head()"
   ]
  },
  {
   "cell_type": "code",
   "execution_count": 3,
   "id": "a85f736e",
   "metadata": {},
   "outputs": [
    {
     "data": {
      "image/png": "[encoded data removed]",
      "text/plain": [
       "<Figure size 640x480 with 1 Axes>"
      ]
     },
     "metadata": {},
     "output_type": "display_data"
    }
   ],
   "source": [
    "fig,ax = plt.subplots()\n",
    "ax.scatter(data[data['Accepted']==0]['Exam1'],data[data['Accepted']==0]['Exam2'],c='r',marker='x',label='y=0')\n",
    "ax.scatter(data[data['Accepted']==1]['Exam1'],data[data['Accepted']==1]['Exam2'],c='b',marker='o',label='y=1')\n",
    "ax.legend()\n",
    "ax.set(xlabel='exam1',ylabel='exam2')\n",
    "plt.show()"
   ]
  },
  {
   "cell_type": "code",
   "execution_count": 4,
   "id": "780ccb02",
   "metadata": {},
   "outputs": [],
   "source": [
    "def get_Xy(data):\n",
    "    data.insert(0,'ones',1)\n",
    "    X_ = data.iloc[:,0:-1]\n",
    "    X = X_.values\n",
    "    y_ = data.iloc[:,-1]\n",
    "    y = y_.values.reshape(len(y_),1)\n",
    "    return X,y"
   ]
  },
  {
   "cell_type": "code",
   "execution_count": 5,
   "id": "290a2bdf",
   "metadata": {},
   "outputs": [],
   "source": [
    "X,y = get_Xy(data)"
   ]
  },
  {
   "cell_type": "code",
   "execution_count": 6,
   "id": "8ab6ccd0",
   "metadata": {},
   "outputs": [
    {
     "data": {
      "text/plain": [
       "(100, 3)"
      ]
     },
     "execution_count": 6,
     "metadata": {},
     "output_type": "execute_result"
    }
   ],
   "source": [
    "X.shape"
   ]
  },
  {
   "cell_type": "code",
   "execution_count": 7,
   "id": "ebb8d5c1",
   "metadata": {},
   "outputs": [
    {
     "data": {
      "text/plain": [
       "(100, 1)"
      ]
     },
     "execution_count": 7,
     "metadata": {},
     "output_type": "execute_result"
    }
   ],
   "source": [
    "y.shape"
   ]
  },
  {
   "cell_type": "code",
   "execution_count": 8,
   "id": "07370c57",
   "metadata": {},
   "outputs": [],
   "source": [
    "def sigmoid(z):\n",
    "    return 1 / (1 + np.exp(-z))"
   ]
  },
  {
   "cell_type": "code",
   "execution_count": 9,
   "id": "92b8902d",
   "metadata": {},
   "outputs": [],
   "source": [
    "def costFunction(X,y,theta):\n",
    "    A = sigmoid(X@theta)\n",
    "    first = y * np.log(A)\n",
    "    second = (1-y) * np.log(1-A)\n",
    "    return -np.sum(first + second) / len(X)"
   ]
  },
  {
   "cell_type": "code",
   "execution_count": 10,
   "id": "cc5be90a",
   "metadata": {},
   "outputs": [
    {
     "data": {
      "text/plain": [
       "(3, 1)"
      ]
     },
     "execution_count": 10,
     "metadata": {},
     "output_type": "execute_result"
    }
   ],
   "source": [
    "theta = np.zeros((3,1))\n",
    "theta.shape"
   ]
  },
  {
   "cell_type": "code",
   "execution_count": 11,
   "id": "fc8d5420",
   "metadata": {},
   "outputs": [
    {
     "name": "stdout",
     "output_type": "stream",
     "text": [
      "0.6931471805599453\n"
     ]
    }
   ],
   "source": [
    "cost_init = costFunction(X,y,theta)\n",
    "print(cost_init)"
   ]
  },
  {
   "cell_type": "code",
   "execution_count": 18,
   "id": "b22c4322",
   "metadata": {},
   "outputs": [],
   "source": [
    "def gradientDesscent(X,y,theta,alpha,iters):\n",
    "    m = len(X)\n",
    "    costs = []\n",
    "    for i in range(iters):\n",
    "        A = sigmoid(X@theta)\n",
    "        cost = costFunction(X,y,theta)\n",
    "        costs.append(cost)\n",
    "        theta = theta - (X.T @ (A - y))* alpha / len(X)\n",
    "        if i % 1000 == 0:\n",
    "            print(cost)\n",
    "    \n",
    "    return costs,theta\n",
    "    "
   ]
  },
  {
   "cell_type": "code",
   "execution_count": 19,
   "id": "39fed2c4",
   "metadata": {},
   "outputs": [],
   "source": [
    "alpha = 0.004\n",
    "iters = 200000"
   ]
  },
  {
   "cell_type": "code",
   "execution_count": 20,
   "id": "c55a1bee",
   "metadata": {},
   "outputs": [
    {
     "name": "stdout",
     "output_type": "stream",
     "text": [
      "0.6931471805599453\n",
      "1.8829158239568053\n",
      "3.03727990612506\n",
      "5.47109975896728\n",
      "1.836300591020885\n",
      "2.9139783826257375\n",
      "5.422227941381874\n",
      "1.7886098175014726\n",
      "2.7898484821137446\n",
      "5.371561542956996\n",
      "1.7397253149918432\n",
      "2.665095089448256\n",
      "5.318664583781819\n",
      "1.6892680026012499\n",
      "2.5403972937885984\n",
      "5.262761699757286\n",
      "1.6365530665862353\n",
      "2.416991500356434\n",
      "5.202715286859566\n",
      "1.5805970054308145\n",
      "2.2966289247668445\n",
      "5.137075939939502\n",
      "1.5202084629766675\n",
      "2.1813551513737313\n",
      "5.0642278199358906\n",
      "1.4541676242277009\n",
      "2.0730926838376567\n",
      "4.982596862732572\n",
      "1.3814322716266059\n",
      "1.973069484331459\n",
      "4.890794398234964\n",
      "1.3012235841765178\n",
      "1.8812019822182404\n",
      "4.787477386097684\n",
      "1.2128029263700544\n",
      "1.7955328507760833\n",
      "4.6706541527062795\n",
      "1.1147546600898597\n",
      "1.7115958748179052\n",
      "4.535934636205579\n",
      "1.003326236576\n",
      "1.6206760273339993\n",
      "4.371312651031852\n",
      "0.8667549378062717\n",
      "1.4994019044839553\n",
      "4.118294010527239\n",
      "0.637140295059773\n",
      "0.6742213517037681\n",
      "0.4375083623123468\n",
      "1.3180570610489792\n",
      "2.854139451625989\n",
      "0.539577601100868\n",
      "0.4232953113285741\n",
      "3.7545880574286663\n",
      "0.24075349975255342\n",
      "0.6526997494294636\n",
      "1.2220591503453766\n",
      "0.3069359554458826\n",
      "0.43117047078397164\n",
      "3.053162648194274\n",
      "0.7971522041746023\n",
      "1.1224611270826863\n",
      "1.082662202214763\n",
      "0.4289650282919152\n",
      "0.8907015573770822\n",
      "0.2798602325116561\n",
      "0.6521840407197422\n",
      "1.6021213644551398\n",
      "0.2246180311315346\n",
      "1.3154676065351862\n",
      "1.9396297187355203\n",
      "2.495297412032518\n",
      "2.0153682124035193\n",
      "0.9534729637360647\n",
      "0.2894251642309414\n",
      "0.9732609251797902\n",
      "2.009368778679138\n",
      "1.3237369667558332\n",
      "2.1330171063505348\n",
      "2.06452778422417\n",
      "1.8404293279517494\n",
      "1.7092442602484539\n",
      "1.7422439306161968\n",
      "1.7686588879662517\n",
      "1.8036921747311758\n",
      "1.770518219060981\n",
      "1.7356598734422488\n",
      "1.6987800705588885\n",
      "1.6593839278805942\n",
      "1.616759859675765\n",
      "1.5698151120833217\n",
      "1.5167030581036511\n",
      "1.4537911739841562\n",
      "1.3716211128676965\n",
      "1.2318919819521335\n",
      "1.1825437622434638\n",
      "1.1664758456735012\n",
      "1.1504763263559021\n",
      "1.1345487027027645\n",
      "1.1186969889403964\n",
      "1.1029256713346933\n",
      "1.0872396633120855\n",
      "1.0716442552456942\n",
      "1.0561450590718575\n",
      "1.040747948107913\n",
      "1.0254589926641149\n",
      "1.0102843922684814\n",
      "0.995230405537269\n",
      "0.9803032789118056\n",
      "0.9655091756271343\n",
      "0.9508541063673593\n",
      "0.9363438630865091\n",
      "0.9219839574276267\n",
      "0.907779565056625\n",
      "0.8937354770473638\n",
      "0.8798560592222303\n",
      "0.86614522008168\n",
      "0.8526063876659138\n",
      "0.8392424953981066\n",
      "0.8260559766805038\n",
      "0.8130487677646522\n",
      "0.8002223182082437\n",
      "0.7875776080689867\n",
      "0.7751151708746435\n",
      "0.7628351213469436\n",
      "0.7507371868414997\n",
      "0.7388207414908224\n",
      "0.7270848420946995\n",
      "0.7155282648840909\n",
      "0.7041495423837388\n",
      "0.6929469997066187\n",
      "0.6819187897247387\n",
      "0.6710629266702663\n",
      "0.6603773178241383\n",
      "0.6498597930440552\n",
      "0.6395081319680017\n",
      "0.6293200888023753\n",
      "0.61929341466518\n",
      "0.6094258775051914\n",
      "0.5997152796579228\n",
      "0.5901594731297116\n",
      "0.5807563727233923\n",
      "0.5715039671339817\n",
      "0.5624003281511729\n",
      "0.5534436181091649\n",
      "0.5446320957231748\n",
      "0.5359641204477984\n",
      "0.527438155485391\n",
      "0.5190527695633853\n",
      "0.5108066375888274\n",
      "0.5026985402769707\n",
      "0.4947273628384613\n",
      "0.4868920927976721\n",
      "0.47919181700274827\n",
      "0.4716257178766956\n",
      "0.4641930689489604\n",
      "0.4568932296980406\n",
      "0.44972563972891033\n",
      "0.4426898123039452\n",
      "0.4357853272436856\n",
      "0.4290118232134227\n",
      "0.4223689894145476\n",
      "0.4158565567045458\n",
      "0.4094742881779498\n",
      "0.4032219692508933\n",
      "0.39709939730484783\n",
      "0.3911063709599942\n",
      "0.3852426790640721\n",
      "0.37950808949980114\n",
      "0.37390233792963357\n",
      "0.3684251166116991\n",
      "0.3630760634340454\n",
      "0.35785475132384353\n",
      "0.35276067819425205\n",
      "0.34779325759307433\n",
      "0.3429518102133209\n",
      "0.3382355564164523\n",
      "0.3336436099045054\n",
      "0.329174972656891\n",
      "0.3248285312235585\n",
      "0.3206030544375954\n",
      "0.3164971925799266\n",
      "0.3125094779961069\n",
      "0.3086383271335566\n",
      "0.30488204393631524\n",
      "0.3012388245064881\n",
      "0.297706762916722\n",
      "0.2942838580375915\n",
      "0.2909680212291719\n",
      "0.2877570847352755\n",
      "0.284648810615022\n",
      "0.28164090004603487\n",
      "0.2787310028390281\n",
      "0.27591672701206277\n",
      "0.27319564828512255\n",
      "0.2705653193699434\n",
      "0.26802327894631744\n",
      "0.26556706023348636\n",
      "0.26319419908163405\n",
      "0.26090224152664643\n"
     ]
    }
   ],
   "source": [
    "costs,theta_final = gradientDesscent(X,y,theta,alpha,iters)"
   ]
  },
  {
   "cell_type": "code",
   "execution_count": 21,
   "id": "4900fbd0",
   "metadata": {},
   "outputs": [
    {
     "data": {
      "text/plain": [
       "array([[-23.7726851 ],\n",
       "       [  0.20687749],\n",
       "       [  0.1999796 ]])"
      ]
     },
     "execution_count": 21,
     "metadata": {},
     "output_type": "execute_result"
    }
   ],
   "source": [
    "theta_final"
   ]
  },
  {
   "cell_type": "code",
   "execution_count": 22,
   "id": "be048fd2",
   "metadata": {},
   "outputs": [],
   "source": [
    "def predict(X,theta):\n",
    "    prob = sigmoid(X@theta)\n",
    "    return [1 if x >= 0.5 else 0 for x in prob]"
   ]
  },
  {
   "cell_type": "code",
   "execution_count": 23,
   "id": "28298b50",
   "metadata": {},
   "outputs": [
    {
     "name": "stdout",
     "output_type": "stream",
     "text": [
      "0.91\n"
     ]
    }
   ],
   "source": [
    "y_ = np.array(predict(X,theta_final))\n",
    "y_pre = y_.reshape(len(y_),1)\n",
    "\n",
    "acc = np.mean(y_pre == y)\n",
    "print(acc)"
   ]
  },
  {
   "cell_type": "code",
   "execution_count": 24,
   "id": "298f8fde",
   "metadata": {},
   "outputs": [],
   "source": [
    "coef1 = - theta_final[0,0]/theta_final[2,0]\n",
    "coef2 = - theta_final[1,0]/theta_final[2,0]"
   ]
  },
  {
   "cell_type": "code",
   "execution_count": 26,
   "id": "a6855b82",
   "metadata": {},
   "outputs": [
    {
     "data": {
      "image/png": "[encoded data removed]",
      "text/plain": [
       "<Figure size 640x480 with 1 Axes>"
      ]
     },
     "metadata": {},
     "output_type": "display_data"
    }
   ],
   "source": [
    "x = np.linspace(20,100,100)\n",
    "f = coef1 + coef2 * x\n",
    "\n",
    "fig,ax = plt.subplots()\n",
    "ax.scatter(data[data['Accepted']==0]['Exam1'],data[data['Accepted']==0]['Exam2'],c='r',marker='x',label='y=0')\n",
    "ax.scatter(data[data['Accepted']==1]['Exam1'],data[data['Accepted']==1]['Exam2'],c='b',marker='o',label='y=1')\n",
    "ax.legend()\n",
    "ax.set(xlabel='exam1',ylabel='exam2')\n",
    "ax.plot(x,f,c='g')\n",
    "plt.show()"
   ]
  },
  {
   "cell_type": "code",
   "execution_count": null,
   "id": "e4365271",
   "metadata": {},
   "outputs": [],
   "source": []
  }
 ],
 "metadata": {
  "kernelspec": {
   "display_name": "Python 3 (ipykernel)",
   "language": "python",
   "name": "python3"
  },
  "language_info": {
   "codemirror_mode": {
    "name": "ipython",
    "version": 3
   },
   "file_extension": ".py",
   "mimetype": "text/x-python",
   "name": "python",
   "nbconvert_exporter": "python",
   "pygments_lexer": "ipython3",
   "version": "3.9.13"
  }
 },
 "nbformat": 4,
 "nbformat_minor": 5
}
