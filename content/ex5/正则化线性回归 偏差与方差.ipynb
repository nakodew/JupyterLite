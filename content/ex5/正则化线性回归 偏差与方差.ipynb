{
 "cells": [
  {
   "cell_type": "code",
   "execution_count": 2,
   "id": "25a13258-b257-48e9-b7bc-5d75df6efb6b",
   "metadata": {},
   "outputs": [],
   "source": [
    "import numpy as np\n",
    "import pandas as pd\n",
    "import matplotlib.pyplot as plt\n",
    "from scipy.io import loadmat\n",
    "import scipy.optimize as opt"
   ]
  },
  {
   "cell_type": "code",
   "execution_count": 89,
   "id": "7180c9af-e65f-4a13-a8b9-61aa6a4da760",
   "metadata": {},
   "outputs": [],
   "source": [
    "def loaddata(path):              #导入mat文件\n",
    "    data=loadmat(path)\n",
    "    return data\n",
    "\n",
    "def plotdata(X,y):\n",
    "    plt.scatter(X,y)\n",
    "    plt.xlabel('Change in water level(X)')\n",
    "    plt.ylabel('Water flowing out of the dam(y)')\n",
    "    plt.show()\n",
    "    \n",
    "def h(theta,X):\n",
    "    h=X@theta.reshape(2,1)\n",
    "    return h\n",
    "\n",
    "def costReg(theta,X,y,lamb):\n",
    "    m=X.shape[0]\n",
    "    cost=np.sum(np.power(h(theta,X)-y,2))/(2*m)\n",
    "    reg=lamb*theta[1:]*theta[1:].T/(2*m)\n",
    "    J=cost+reg\n",
    "    return J\n",
    "\n",
    "def gradientReg(theta,X,y,lamb):\n",
    "    grad=np.zeros(theta.shape)\n",
    "    m=X.shape[0]\n",
    "    grad=X.T@(h(theta,X)-y)/m\n",
    "    grad[1]=grad[1]+lamb*theta[1]/m\n",
    "    return grad.flatten()"
   ]
  },
  {
   "cell_type": "code",
   "execution_count": 90,
   "id": "93b6062d-bf75-44c4-9b68-95572b6c6563",
   "metadata": {},
   "outputs": [
    {
     "data": {
      "image/png": "[encoded data removed]",
      "text/plain": [
       "<Figure size 640x480 with 1 Axes>"
      ]
     },
     "metadata": {},
     "output_type": "display_data"
    }
   ],
   "source": [
    "path='ex5data1.mat'\n",
    "data=loaddata(path)\n",
    "data\n",
    "X=data['X']\n",
    "y=data['y']\n",
    "Xtest=data['Xtest']\n",
    "ytest=data['ytest']\n",
    "Xval=data['Xval']\n",
    "yval=data['yval']\n",
    "\n",
    "plotdata(X,y)"
   ]
  },
  {
   "cell_type": "code",
   "execution_count": 91,
   "id": "0d5939df-c2e8-46f9-a7fe-1826ceee3e7a",
   "metadata": {},
   "outputs": [
    {
     "name": "stdout",
     "output_type": "stream",
     "text": [
      "12\n",
      "[[  1.         -15.93675813]\n",
      " [  1.         -29.15297922]\n",
      " [  1.          36.18954863]\n",
      " [  1.          37.49218733]\n",
      " [  1.         -48.05882945]\n",
      " [  1.          -8.94145794]\n",
      " [  1.          15.30779289]\n",
      " [  1.         -34.70626581]\n",
      " [  1.           1.38915437]\n",
      " [  1.         -44.38375985]\n",
      " [  1.           7.01350208]\n",
      " [  1.          22.76274892]]\n",
      "(12, 2) (12, 1) (21, 1) (21, 1) (21, 1) (21, 1)\n"
     ]
    }
   ],
   "source": [
    "m=X.shape[0]\n",
    "print(m)\n",
    "X=np.insert(X,0,1,axis=1)\n",
    "print(X)\n",
    "print(X.shape,y.shape,Xval.shape,yval.shape,Xtest.shape,ytest.shape)"
   ]
  },
  {
   "cell_type": "code",
   "execution_count": 92,
   "id": "7459a5af-eb05-453e-86d6-8ff7193eb67e",
   "metadata": {},
   "outputs": [
    {
     "name": "stdout",
     "output_type": "stream",
     "text": [
      "(2,)\n",
      "[1 1]\n",
      "(2,)\n",
      "(2,)\n"
     ]
    }
   ],
   "source": [
    "theta=np.array([1,1])\n",
    "print(theta.shape)\n",
    "print(theta)\n",
    "print(theta.T.shape)\n",
    "lamb=1\n",
    "\n",
    "cost=costReg(theta,X,y,1)\n",
    "cost\n",
    "print(theta.shape)"
   ]
  },
  {
   "cell_type": "code",
   "execution_count": 93,
   "id": "056c2f80-fe0b-4da6-82e9-c6369db3c54e",
   "metadata": {},
   "outputs": [
    {
     "data": {
      "text/plain": [
       "array([-15.30301567, 598.25074417])"
      ]
     },
     "execution_count": 93,
     "metadata": {},
     "output_type": "execute_result"
    }
   ],
   "source": [
    "grad=gradientReg(theta,X,y,lamb)\n",
    "grad"
   ]
  },
  {
   "cell_type": "code",
   "execution_count": null,
   "id": "28925578-8f0d-4a6e-9cf9-305d889349c4",
   "metadata": {},
   "outputs": [],
   "source": []
  },
  {
   "cell_type": "code",
   "execution_count": null,
   "id": "33b4376f-a5de-4691-b924-0d236fbe39db",
   "metadata": {},
   "outputs": [],
   "source": []
  }
 ],
 "metadata": {
  "kernelspec": {
   "display_name": "Python 3 (ipykernel)",
   "language": "python",
   "name": "python3"
  },
  "language_info": {
   "codemirror_mode": {
    "name": "ipython",
    "version": 3
   },
   "file_extension": ".py",
   "mimetype": "text/x-python",
   "name": "python",
   "nbconvert_exporter": "python",
   "pygments_lexer": "ipython3",
   "version": "3.9.13"
  }
 },
 "nbformat": 4,
 "nbformat_minor": 5
}
