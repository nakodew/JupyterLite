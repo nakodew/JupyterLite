{
 "cells": [
  {
   "cell_type": "markdown",
   "metadata": {},
   "source": [
    "# Lab4. 神经网络识别手写数字"
   ]
  },
  {
   "cell_type": "code",
   "execution_count": 2,
   "metadata": {
    "scrolled": true
   },
   "outputs": [],
   "source": [
    "import numpy as np\n",
    "from scipy.io import loadmat\n",
    "import matplotlib.pyplot as plt\n",
    "\n",
    "\"\"\"函数定义\"\"\"\n",
    "\n",
    "def loaddata(path):\n",
    "    data=loadmat(path)\n",
    "    return data\n",
    "\n",
    "\n",
    "def sigmoid(z):\n",
    "    return 1/(1+np.exp(-z))\n",
    "\n",
    "\n",
    "# 随机生成100张图片\n",
    "def displayData(x):\n",
    "    indexs=np.random.choice(x.shape[0],100)\n",
    "    images=x[indexs]\n",
    "    fig,axs=plt.subplots(10,10,figsize=(20,20))\n",
    "    for row in range(10):\n",
    "        for col in range(10):\n",
    "            axs[row,col].matshow(images[row*10+col].reshape(20,20).T,cmap='gray_r')\n",
    "    plt.show()\n",
    "\n",
    "    \n",
    "# one-hot 编码\n",
    "def oneHotEncoder(arr):\n",
    "    m = arr.shape[0]\n",
    "    arr_onehot = np.zeros((m, 10))\n",
    "    for i in range(m):\n",
    "        arr_onehot[i][arr[i]-1] = 1\n",
    "    return arr_onehot\n",
    "\n",
    "\n",
    "# 计算sigmoid函数的梯度\n",
    "def sigmoid_gradient(z):\n",
    "    return np.multiply(sigmoid(z), (1 - sigmoid(z)))\n"
   ]
  },
  {
   "cell_type": "markdown",
   "metadata": {},
   "source": [
    "## 以下是你需要完成的函数"
   ]
  },
  {
   "cell_type": "code",
   "execution_count": null,
   "metadata": {},
   "outputs": [],
   "source": [
    "def forward_propagate(X, theta1, theta2):\n",
    "    \"\"\"完成此部分代码\"\"\"\n",
    "    return a1, z2, a2, z3, h"
   ]
  },
  {
   "cell_type": "markdown",
   "metadata": {},
   "source": [
    "cost函数与backprop前半部分一致，为可选部分"
   ]
  },
  {
   "cell_type": "code",
   "execution_count": null,
   "metadata": {},
   "outputs": [],
   "source": [
    "def cost(params, input_size, hidden_size, num_labels, X, y, lmbd):\n",
    "    m = X.shape[0]\n",
    "    X = np.matrix(X)\n",
    "    y = np.matrix(y)\n",
    "\n",
    "    # 将参数数组重新塑造为每一层的参数矩阵\n",
    "    theta1 = np.matrix(np.reshape(params[:hidden_size * (input_size + 1)], (hidden_size, (input_size + 1))))\n",
    "    theta2 = np.matrix(np.reshape(params[hidden_size * (input_size + 1):], (num_labels, (hidden_size + 1))))\n",
    "\n",
    "    # 运行向前传播函数\n",
    "    a1, z2, a2, z3, h = forward_propagate(X, theta1, theta2)\n",
    "\n",
    "    # 计算代价函数\n",
    "    \"\"\"完成此部分代码\"\"\"\n",
    "    # 加上正则化项\n",
    "     \"\"\"完成此部分代码\"\"\"\n",
    "\n",
    "    return J # 返回值为标量"
   ]
  },
  {
   "cell_type": "code",
   "execution_count": null,
   "metadata": {},
   "outputs": [],
   "source": [
    "# 反向传播算法\n",
    "# 扩展代价函数以执行反向传播并返回代价和梯度\n",
    "def backprop(params, input_size, hidden_size, num_labels, X, y, lmbd):\n",
    "    m = X.shape[0]\n",
    "    X = np.matrix(X)\n",
    "    y = np.matrix(y)\n",
    "    # 将参数数组重新塑造为每一层的参数矩阵\n",
    "    theta1 = np.matrix(np.reshape(params[:hidden_size * (input_size + 1)], (hidden_size, (input_size + 1))))\n",
    "    theta2 = np.matrix(np.reshape(params[hidden_size * (input_size + 1):], (num_labels, (hidden_size + 1))))\n",
    "\n",
    "    # 运行feed-forward pass\n",
    "    a1, z2, a2, z3, h = forward_propagate(X, theta1, theta2)\n",
    "\n",
    "    # 初始化\n",
    "    J = 0\n",
    "    delta1 = np.zeros(theta1.shape)     #  (25, 401)\n",
    "    delta2 = np.zeros(theta2.shape)     #  (10, 26)\n",
    "\n",
    "    # 计算代价函数\n",
    "    \"\"\"完成此部分代码\"\"\"\n",
    "    # 加上正则化项\n",
    "     \"\"\"完成此部分代码\"\"\"\n",
    "    \n",
    "    # 执行反向传播\n",
    "     \"\"\"完成此部分代码\"\"\"\n",
    "\n",
    "    # 加上梯度正则化项\n",
    "     \"\"\"完成此部分代码\"\"\"\n",
    "\n",
    "    # 将梯度矩阵分解为单个数组\n",
    "    grad = np.concatenate((np.ravel(delta1), np.ravel(delta2)))\n",
    "\n",
    "    return J, grad"
   ]
  },
  {
   "cell_type": "markdown",
   "metadata": {},
   "source": [
    "## 运行代码进行实验 "
   ]
  },
  {
   "cell_type": "code",
   "execution_count": 3,
   "metadata": {
    "scrolled": false
   },
   "outputs": [],
   "source": [
    "from scipy.io import loadmat\n",
    "# 加载数据\n",
    "data=loaddata('ex4data1.mat')\n",
    "X = data['X']\n",
    "y = data['y']\n",
    "displayData(X)\n",
    "\n",
    "# 对y标签进行一次one-hot编码\n",
    "# one-hot 编码将类标签n（k类）转换为长度为k的向量，其中索引n为“hot”（1），而其余为0\n",
    "y_onehot = oneHotEncoder(y)\n",
    "# for i in range(y_hot.shape[0]):\n",
    "#     print(y_onehot[i])"
   ]
  },
  {
   "cell_type": "code",
   "execution_count": 4,
   "metadata": {},
   "outputs": [
    {
     "data": {
      "text/plain": [
       "((25, 401), (10, 26))"
      ]
     },
     "execution_count": 4,
     "metadata": {},
     "output_type": "execute_result"
    }
   ],
   "source": [
    "# 初始化设置\n",
    "# 确定输入层和输出层的单元数\n",
    "input_size = 400 # 输入层单元\n",
    "hidden_size = 25 # 隐藏层单元\n",
    "num_labels = 10  # 输出层单元\n",
    "lmbd = 1 # 正则化系数\n",
    "\n",
    "# 随机初始化完整网络参数大小的参数数组\n",
    "# 通常会把权重初始化为很小的值，接近于0\n",
    "params = (np.random.random(size=hidden_size * (input_size + 1) + num_labels * (hidden_size + 1)) - 0.5) * 0.25\n",
    "\n",
    "m = X.shape[0]\n",
    "X = np.matrix(X)\n",
    "y = np.matrix(y)\n",
    "\n",
    "# 将参数数组解开为每个层的参数矩阵\n",
    "theta1 = np.matrix(np.reshape(params[:hidden_size * (input_size + 1)], (hidden_size, (input_size + 1))))\n",
    "theta2 = np.matrix(np.reshape(params[hidden_size * (input_size + 1):], (num_labels, (hidden_size + 1))))\n",
    "(theta1.shape, theta2.shape)"
   ]
  },
  {
   "cell_type": "code",
   "execution_count": null,
   "metadata": {},
   "outputs": [],
   "source": [
    "from scipy.optimize import minimize\n",
    "\n",
    "fmin = minimize(fun=backprop,\n",
    "                x0=params,\n",
    "                args=(input_size, hidden_size, num_labels, X, y_onehot, lmbd),\n",
    "                method='TNC',\n",
    "                jac=True,\n",
    "                options={'maxiter': 250})"
   ]
  },
  {
   "cell_type": "code",
   "execution_count": null,
   "metadata": {},
   "outputs": [],
   "source": [
    "print(fmin)"
   ]
  },
  {
   "cell_type": "code",
   "execution_count": null,
   "metadata": {},
   "outputs": [],
   "source": [
    "X = np.matrix(X)\n",
    "theta1 = np.matrix(np.reshape(fmin.x[:hidden_size * (input_size + 1)], (hidden_size, (input_size + 1))))\n",
    "theta2 = np.matrix(np.reshape(fmin.x[hidden_size * (input_size + 1):], (num_labels, (hidden_size + 1))))\n",
    "\n",
    "a1, z2, a2, z3, h = forward_propagate(X, theta1, theta2)\n",
    "y_pred = np.array(np.argmax(h, axis=1) + 1)\n",
    "\n",
    "\n",
    "# 计算准确度\n",
    "correct = [1 if a == b else 0 for (a, b) in zip(y_pred, y)]\n",
    "accuracy = (sum(map(int, correct)) / float(len(correct)))\n",
    "print ('accuracy = {0}%'.format(accuracy * 100))"
   ]
  }
 ],
 "metadata": {
  "hide_input": false,
  "kernelspec": {
   "display_name": "Python 3 (ipykernel)",
   "language": "python",
   "name": "python3"
  },
  "language_info": {
   "codemirror_mode": {
    "name": "ipython",
    "version": 3
   },
   "file_extension": ".py",
   "mimetype": "text/x-python",
   "name": "python",
   "nbconvert_exporter": "python",
   "pygments_lexer": "ipython3",
   "version": "3.9.13"
  },
  "toc": {
   "base_numbering": 1,
   "nav_menu": {},
   "number_sections": true,
   "sideBar": true,
   "skip_h1_title": false,
   "title_cell": "Table of Contents",
   "title_sidebar": "Contents",
   "toc_cell": false,
   "toc_position": {},
   "toc_section_display": true,
   "toc_window_display": false
  },
  "varInspector": {
   "cols": {
    "lenName": 16,
    "lenType": 16,
    "lenVar": 40
   },
   "kernels_config": {
    "python": {
     "delete_cmd_postfix": "",
     "delete_cmd_prefix": "del ",
     "library": "var_list.py",
     "varRefreshCmd": "print(var_dic_list())"
    },
    "r": {
     "delete_cmd_postfix": ") ",
     "delete_cmd_prefix": "rm(",
     "library": "var_list.r",
     "varRefreshCmd": "cat(var_dic_list()) "
    }
   },
   "types_to_exclude": [
    "module",
    "function",
    "builtin_function_or_method",
    "instance",
    "_Feature"
   ],
   "window_display": false
  }
 },
 "nbformat": 4,
 "nbformat_minor": 4
}
